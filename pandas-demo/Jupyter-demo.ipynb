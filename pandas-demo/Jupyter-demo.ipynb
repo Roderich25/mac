{
 "cells": [
  {
   "cell_type": "markdown",
   "metadata": {},
   "source": [
    "# Title\n",
    "## Subtitle\n",
    "\n",
    "**Bold word**\n",
    "\n",
    "1. Bullet"
   ]
  },
  {
   "cell_type": "code",
   "execution_count": 9,
   "metadata": {},
   "outputs": [],
   "source": [
    "name = \"Rodrigo\""
   ]
  },
  {
   "cell_type": "code",
   "execution_count": 11,
   "metadata": {},
   "outputs": [
    {
     "data": {
      "text/plain": [
       "'Rodrigo'"
      ]
     },
     "execution_count": 11,
     "metadata": {},
     "output_type": "execute_result"
    }
   ],
   "source": [
    "name"
   ]
  },
  {
   "cell_type": "code",
   "execution_count": 13,
   "metadata": {},
   "outputs": [
    {
     "name": "stdout",
     "output_type": "stream",
     "text": [
      "Package                                 Version   \r\n",
      "--------------------------------------- ----------\r\n",
      "appnope                                 0.1.0     \r\n",
      "asn1crypto                              1.0.1     \r\n",
      "astroid                                 2.3.3     \r\n",
      "attrs                                   19.3.0    \r\n",
      "autopep8                                1.4.4     \r\n",
      "backcall                                0.1.0     \r\n",
      "beautifulsoup4                          4.8.2     \r\n",
      "bleach                                  3.1.0     \r\n",
      "bokeh                                   1.4.0     \r\n",
      "boto                                    2.49.0    \r\n",
      "boto3                                   1.10.32   \r\n",
      "botocore                                1.13.32   \r\n",
      "certifi                                 2019.9.11 \r\n",
      "cffi                                    1.12.3    \r\n",
      "chardet                                 3.0.4     \r\n",
      "Click                                   7.0       \r\n",
      "click-plugins                           1.1.1     \r\n",
      "colorama                                0.4.1     \r\n",
      "cryptography                            2.7       \r\n",
      "cycler                                  0.10.0    \r\n",
      "decorator                               4.4.1     \r\n",
      "defusedxml                              0.6.0     \r\n",
      "docutils                                0.15.2    \r\n",
      "entrypoints                             0.3       \r\n",
      "gensim                                  3.8.1     \r\n",
      "gTTS                                    2.0.4     \r\n",
      "gTTS-token                              1.1.3     \r\n",
      "idna                                    2.8       \r\n",
      "importlib-metadata                      1.3.0     \r\n",
      "inflection                              0.3.1     \r\n",
      "ipykernel                               5.1.3     \r\n",
      "ipython                                 7.11.1    \r\n",
      "ipython-genutils                        0.2.0     \r\n",
      "isort                                   4.3.21    \r\n",
      "jedi                                    0.15.2    \r\n",
      "Jinja2                                  2.10.3    \r\n",
      "jmespath                                0.9.4     \r\n",
      "joblib                                  0.14.0    \r\n",
      "json5                                   0.8.5     \r\n",
      "jsonschema                              3.2.0     \r\n",
      "jupyter-client                          5.3.4     \r\n",
      "jupyter-core                            4.6.1     \r\n",
      "jupyterlab                              1.2.4     \r\n",
      "jupyterlab-server                       1.0.6     \r\n",
      "kiwisolver                              1.1.0     \r\n",
      "lazy-object-proxy                       1.4.3     \r\n",
      "MarkupSafe                              1.1.1     \r\n",
      "marshmallow                             3.3.0     \r\n",
      "matplotlib                              3.1.1     \r\n",
      "mccabe                                  0.6.1     \r\n",
      "mistune                                 0.8.4     \r\n",
      "more-itertools                          5.0.0     \r\n",
      "nbconvert                               5.6.1     \r\n",
      "nbformat                                5.0.3     \r\n",
      "ndg-httpsclient                         0.5.1     \r\n",
      "nltk                                    3.4.5     \r\n",
      "notebook                                6.0.2     \r\n",
      "numpy                                   1.17.2    \r\n",
      "packaging                               19.2      \r\n",
      "pandas                                  0.25.1    \r\n",
      "pandocfilters                           1.4.2     \r\n",
      "parso                                   0.5.2     \r\n",
      "pbr                                     5.4.3     \r\n",
      "pexpect                                 4.7.0     \r\n",
      "pickleshare                             0.7.5     \r\n",
      "Pillow                                  6.2.1     \r\n",
      "pip                                     19.3.1    \r\n",
      "pipenv                                  2018.11.26\r\n",
      "playsound                               1.2.2     \r\n",
      "prometheus-client                       0.7.1     \r\n",
      "prompt-toolkit                          3.0.2     \r\n",
      "psycopg2                                2.8.3     \r\n",
      "ptyprocess                              0.6.0     \r\n",
      "pyasn1                                  0.4.7     \r\n",
      "pyasn1-modules                          0.2.7     \r\n",
      "PyAudio                                 0.2.11    \r\n",
      "pycodestyle                             2.5.0     \r\n",
      "pycparser                               2.19      \r\n",
      "Pygments                                2.5.2     \r\n",
      "pylint                                  2.4.4     \r\n",
      "pyobjc                                  6.1       \r\n",
      "pyobjc-core                             6.1       \r\n",
      "pyobjc-framework-Accounts               6.1       \r\n",
      "pyobjc-framework-AddressBook            6.1       \r\n",
      "pyobjc-framework-AdSupport              6.1       \r\n",
      "pyobjc-framework-AppleScriptKit         6.1       \r\n",
      "pyobjc-framework-AppleScriptObjC        6.1       \r\n",
      "pyobjc-framework-ApplicationServices    6.1       \r\n",
      "pyobjc-framework-Automator              6.1       \r\n",
      "pyobjc-framework-AVFoundation           6.1       \r\n",
      "pyobjc-framework-AVKit                  6.1       \r\n",
      "pyobjc-framework-BusinessChat           6.1       \r\n",
      "pyobjc-framework-CalendarStore          6.1       \r\n",
      "pyobjc-framework-CFNetwork              6.1       \r\n",
      "pyobjc-framework-CloudKit               6.1       \r\n",
      "pyobjc-framework-Cocoa                  6.1       \r\n",
      "pyobjc-framework-Collaboration          6.1       \r\n",
      "pyobjc-framework-ColorSync              6.1       \r\n",
      "pyobjc-framework-Contacts               6.1       \r\n",
      "pyobjc-framework-ContactsUI             6.1       \r\n",
      "pyobjc-framework-CoreAudio              6.1       \r\n",
      "pyobjc-framework-CoreAudioKit           6.1       \r\n",
      "pyobjc-framework-CoreBluetooth          6.1       \r\n",
      "pyobjc-framework-CoreData               6.1       \r\n",
      "pyobjc-framework-CoreLocation           6.1       \r\n",
      "pyobjc-framework-CoreMedia              6.1       \r\n",
      "pyobjc-framework-CoreMediaIO            6.1       \r\n",
      "pyobjc-framework-CoreML                 6.1       \r\n",
      "pyobjc-framework-CoreServices           6.1       \r\n",
      "pyobjc-framework-CoreSpotlight          6.1       \r\n",
      "pyobjc-framework-CoreText               6.1       \r\n",
      "pyobjc-framework-CoreWLAN               6.1       \r\n",
      "pyobjc-framework-CryptoTokenKit         6.1       \r\n",
      "pyobjc-framework-DictionaryServices     6.1       \r\n",
      "pyobjc-framework-DiscRecording          6.1       \r\n",
      "pyobjc-framework-DiscRecordingUI        6.1       \r\n",
      "pyobjc-framework-DiskArbitration        6.1       \r\n",
      "pyobjc-framework-DVDPlayback            6.1       \r\n",
      "pyobjc-framework-EventKit               6.1       \r\n",
      "pyobjc-framework-ExceptionHandling      6.1       \r\n",
      "pyobjc-framework-ExternalAccessory      6.1       \r\n",
      "pyobjc-framework-FinderSync             6.1       \r\n",
      "pyobjc-framework-FSEvents               6.1       \r\n",
      "pyobjc-framework-GameCenter             6.1       \r\n",
      "pyobjc-framework-GameController         6.1       \r\n",
      "pyobjc-framework-GameKit                6.1       \r\n",
      "pyobjc-framework-GameplayKit            6.1       \r\n",
      "pyobjc-framework-ImageCaptureCore       6.1       \r\n",
      "pyobjc-framework-IMServicePlugIn        6.1       \r\n",
      "pyobjc-framework-InputMethodKit         6.1       \r\n",
      "pyobjc-framework-InstallerPlugins       6.1       \r\n",
      "pyobjc-framework-InstantMessage         6.1       \r\n",
      "pyobjc-framework-Intents                6.1       \r\n",
      "pyobjc-framework-IOSurface              6.1       \r\n",
      "pyobjc-framework-iTunesLibrary          6.1       \r\n",
      "pyobjc-framework-LatentSemanticMapping  6.1       \r\n",
      "pyobjc-framework-LaunchServices         6.1       \r\n",
      "pyobjc-framework-libdispatch            6.1       \r\n",
      "pyobjc-framework-LocalAuthentication    6.1       \r\n",
      "pyobjc-framework-MapKit                 6.1       \r\n",
      "pyobjc-framework-MediaAccessibility     6.1       \r\n",
      "pyobjc-framework-MediaLibrary           6.1       \r\n",
      "pyobjc-framework-MediaPlayer            6.1       \r\n",
      "pyobjc-framework-MediaToolbox           6.1       \r\n",
      "pyobjc-framework-MetalKit               6.1       \r\n",
      "pyobjc-framework-ModelIO                6.1       \r\n",
      "pyobjc-framework-MultipeerConnectivity  6.1       \r\n",
      "pyobjc-framework-NaturalLanguage        6.1       \r\n",
      "pyobjc-framework-NetFS                  6.1       \r\n",
      "pyobjc-framework-Network                6.1       \r\n",
      "pyobjc-framework-NetworkExtension       6.1       \r\n",
      "pyobjc-framework-NotificationCenter     6.1       \r\n",
      "pyobjc-framework-OpenDirectory          6.1       \r\n",
      "pyobjc-framework-OSAKit                 6.1       \r\n",
      "pyobjc-framework-Photos                 6.1       \r\n",
      "pyobjc-framework-PhotosUI               6.1       \r\n",
      "pyobjc-framework-PreferencePanes        6.1       \r\n",
      "pyobjc-framework-PubSub                 6.1       \r\n",
      "pyobjc-framework-QTKit                  6.1       \r\n",
      "pyobjc-framework-Quartz                 6.1       \r\n",
      "pyobjc-framework-SafariServices         6.1       \r\n",
      "pyobjc-framework-SceneKit               6.1       \r\n",
      "pyobjc-framework-ScreenSaver            6.1       \r\n",
      "pyobjc-framework-ScriptingBridge        6.1       \r\n",
      "pyobjc-framework-SearchKit              6.1       \r\n",
      "pyobjc-framework-Security               6.1       \r\n",
      "pyobjc-framework-SecurityFoundation     6.1       \r\n",
      "pyobjc-framework-SecurityInterface      6.1       \r\n",
      "pyobjc-framework-ServiceManagement      6.1       \r\n",
      "pyobjc-framework-Social                 6.1       \r\n",
      "pyobjc-framework-SpriteKit              6.1       \r\n",
      "pyobjc-framework-StoreKit               6.1       \r\n",
      "pyobjc-framework-SyncServices           6.1       \r\n",
      "pyobjc-framework-SystemConfiguration    6.1       \r\n",
      "pyobjc-framework-UserNotifications      6.1       \r\n",
      "pyobjc-framework-VideoSubscriberAccount 6.1       \r\n",
      "pyobjc-framework-VideoToolbox           6.1       \r\n",
      "pyobjc-framework-Vision                 6.1       \r\n",
      "pyobjc-framework-WebKit                 6.1       \r\n",
      "pyOpenSSL                               19.0.0    \r\n",
      "pyparsing                               2.4.2     \r\n",
      "pyrsistent                              0.15.7    \r\n",
      "python-dateutil                         2.8.0     \r\n",
      "python-ldap                             3.2.0     \r\n",
      "pytz                                    2019.3    \r\n",
      "PyYAML                                  5.1.2     \r\n",
      "pyzmq                                   18.1.1    \r\n",
      "Quandl                                  3.4.8     \r\n",
      "rarfile                                 3.1       \r\n",
      "requests                                2.22.0    \r\n",
      "s3transfer                              0.2.1     \r\n",
      "scikit-learn                            0.21.3    \r\n",
      "scipy                                   1.3.1     \r\n",
      "Send2Trash                              1.5.0     \r\n",
      "setuptools                              39.0.1    \r\n",
      "shodan                                  1.20.0    \r\n",
      "six                                     1.12.0    \r\n",
      "smart-open                              1.9.0     \r\n",
      "soupsieve                               1.9.5     \r\n",
      "SpeechRecognition                       3.8.1     \r\n",
      "stevedore                               1.31.0    \r\n",
      "terminado                               0.8.3     \r\n",
      "testpath                                0.4.4     \r\n",
      "textblob                                0.15.3    \r\n",
      "tornado                                 6.0.3     \r\n",
      "tqdm                                    4.38.0    \r\n",
      "traitlets                               4.3.3     \r\n",
      "typed-ast                               1.4.0     \r\n",
      "unrar                                   0.4       \r\n",
      "urllib3                                 1.25.6    \r\n",
      "virtualenv                              16.7.7    \r\n",
      "virtualenv-clone                        0.5.3     \r\n",
      "virtualenvwrapper                       4.8.4     \r\n",
      "wcwidth                                 0.1.8     \r\n",
      "webencodings                            0.5.1     \r\n",
      "wrapt                                   1.11.2    \r\n",
      "XlsxWriter                              1.2.6     \r\n",
      "zipp                                    0.6.0     \r\n"
     ]
    }
   ],
   "source": [
    "!pip list"
   ]
  },
  {
   "cell_type": "code",
   "execution_count": 15,
   "metadata": {},
   "outputs": [
    {
     "data": {
      "application/json": {
       "cell": {
        "!": "OSMagics",
        "HTML": "Other",
        "SVG": "Other",
        "bash": "Other",
        "capture": "ExecutionMagics",
        "debug": "ExecutionMagics",
        "file": "Other",
        "html": "DisplayMagics",
        "javascript": "DisplayMagics",
        "js": "DisplayMagics",
        "latex": "DisplayMagics",
        "markdown": "DisplayMagics",
        "perl": "Other",
        "prun": "ExecutionMagics",
        "pypy": "Other",
        "python": "Other",
        "python2": "Other",
        "python3": "Other",
        "ruby": "Other",
        "script": "ScriptMagics",
        "sh": "Other",
        "svg": "DisplayMagics",
        "sx": "OSMagics",
        "system": "OSMagics",
        "time": "ExecutionMagics",
        "timeit": "ExecutionMagics",
        "writefile": "OSMagics"
       },
       "line": {
        "alias": "OSMagics",
        "alias_magic": "BasicMagics",
        "autoawait": "AsyncMagics",
        "autocall": "AutoMagics",
        "automagic": "AutoMagics",
        "autosave": "KernelMagics",
        "bookmark": "OSMagics",
        "cat": "Other",
        "cd": "OSMagics",
        "clear": "KernelMagics",
        "colors": "BasicMagics",
        "conda": "PackagingMagics",
        "config": "ConfigMagics",
        "connect_info": "KernelMagics",
        "cp": "Other",
        "debug": "ExecutionMagics",
        "dhist": "OSMagics",
        "dirs": "OSMagics",
        "doctest_mode": "BasicMagics",
        "ed": "Other",
        "edit": "KernelMagics",
        "env": "OSMagics",
        "gui": "BasicMagics",
        "hist": "Other",
        "history": "HistoryMagics",
        "killbgscripts": "ScriptMagics",
        "ldir": "Other",
        "less": "KernelMagics",
        "lf": "Other",
        "lk": "Other",
        "ll": "Other",
        "load": "CodeMagics",
        "load_ext": "ExtensionMagics",
        "loadpy": "CodeMagics",
        "logoff": "LoggingMagics",
        "logon": "LoggingMagics",
        "logstart": "LoggingMagics",
        "logstate": "LoggingMagics",
        "logstop": "LoggingMagics",
        "ls": "Other",
        "lsmagic": "BasicMagics",
        "lx": "Other",
        "macro": "ExecutionMagics",
        "magic": "BasicMagics",
        "man": "KernelMagics",
        "matplotlib": "PylabMagics",
        "mkdir": "Other",
        "more": "KernelMagics",
        "mv": "Other",
        "notebook": "BasicMagics",
        "page": "BasicMagics",
        "pastebin": "CodeMagics",
        "pdb": "ExecutionMagics",
        "pdef": "NamespaceMagics",
        "pdoc": "NamespaceMagics",
        "pfile": "NamespaceMagics",
        "pinfo": "NamespaceMagics",
        "pinfo2": "NamespaceMagics",
        "pip": "PackagingMagics",
        "popd": "OSMagics",
        "pprint": "BasicMagics",
        "precision": "BasicMagics",
        "prun": "ExecutionMagics",
        "psearch": "NamespaceMagics",
        "psource": "NamespaceMagics",
        "pushd": "OSMagics",
        "pwd": "OSMagics",
        "pycat": "OSMagics",
        "pylab": "PylabMagics",
        "qtconsole": "KernelMagics",
        "quickref": "BasicMagics",
        "recall": "HistoryMagics",
        "rehashx": "OSMagics",
        "reload_ext": "ExtensionMagics",
        "rep": "Other",
        "rerun": "HistoryMagics",
        "reset": "NamespaceMagics",
        "reset_selective": "NamespaceMagics",
        "rm": "Other",
        "rmdir": "Other",
        "run": "ExecutionMagics",
        "save": "CodeMagics",
        "sc": "OSMagics",
        "set_env": "OSMagics",
        "store": "StoreMagics",
        "sx": "OSMagics",
        "system": "OSMagics",
        "tb": "ExecutionMagics",
        "time": "ExecutionMagics",
        "timeit": "ExecutionMagics",
        "unalias": "OSMagics",
        "unload_ext": "ExtensionMagics",
        "who": "NamespaceMagics",
        "who_ls": "NamespaceMagics",
        "whos": "NamespaceMagics",
        "xdel": "NamespaceMagics",
        "xmode": "BasicMagics"
       }
      },
      "text/plain": [
       "Available line magics:\n",
       "%alias  %alias_magic  %autoawait  %autocall  %automagic  %autosave  %bookmark  %cat  %cd  %clear  %colors  %conda  %config  %connect_info  %cp  %debug  %dhist  %dirs  %doctest_mode  %ed  %edit  %env  %gui  %hist  %history  %killbgscripts  %ldir  %less  %lf  %lk  %ll  %load  %load_ext  %loadpy  %logoff  %logon  %logstart  %logstate  %logstop  %ls  %lsmagic  %lx  %macro  %magic  %man  %matplotlib  %mkdir  %more  %mv  %notebook  %page  %pastebin  %pdb  %pdef  %pdoc  %pfile  %pinfo  %pinfo2  %pip  %popd  %pprint  %precision  %prun  %psearch  %psource  %pushd  %pwd  %pycat  %pylab  %qtconsole  %quickref  %recall  %rehashx  %reload_ext  %rep  %rerun  %reset  %reset_selective  %rm  %rmdir  %run  %save  %sc  %set_env  %store  %sx  %system  %tb  %time  %timeit  %unalias  %unload_ext  %who  %who_ls  %whos  %xdel  %xmode\n",
       "\n",
       "Available cell magics:\n",
       "%%!  %%HTML  %%SVG  %%bash  %%capture  %%debug  %%file  %%html  %%javascript  %%js  %%latex  %%markdown  %%perl  %%prun  %%pypy  %%python  %%python2  %%python3  %%ruby  %%script  %%sh  %%svg  %%sx  %%system  %%time  %%timeit  %%writefile\n",
       "\n",
       "Automagic is ON, % prefix IS NOT needed for line magics."
      ]
     },
     "execution_count": 15,
     "metadata": {},
     "output_type": "execute_result"
    }
   ],
   "source": [
    "%lsmagic"
   ]
  },
  {
   "cell_type": "code",
   "execution_count": 17,
   "metadata": {},
   "outputs": [
    {
     "data": {
      "text/plain": [
       "'/Users/rodrigo/mac/pandas-demo'"
      ]
     },
     "execution_count": 17,
     "metadata": {},
     "output_type": "execute_result"
    }
   ],
   "source": [
    "%pwd"
   ]
  },
  {
   "cell_type": "code",
   "execution_count": 20,
   "metadata": {},
   "outputs": [
    {
     "name": "stdout",
     "output_type": "stream",
     "text": [
      "total 224\r\n",
      "drwxr-xr-x   8 rodrigo  staff    256 Jan 10 09:53 \u001b[1m\u001b[36m.\u001b[m\u001b[m/\r\n",
      "drwxr-xr-x  45 rodrigo  staff   1440 Jan  9 19:16 \u001b[1m\u001b[36m..\u001b[m\u001b[m/\r\n",
      "-rw-r--r--@  1 rodrigo  staff   6148 Jan  9 20:35 .DS_Store\r\n",
      "-rw-r--r--   1 rodrigo  staff      6 Jan  9 20:25 .gitignore\r\n",
      "drwxr-xr-x   4 rodrigo  staff    128 Jan 10 06:38 \u001b[1m\u001b[36m.ipynb_checkpoints\u001b[m\u001b[m/\r\n",
      "-rw-r--r--   1 rodrigo  staff  20929 Jan 10 09:53 Jupyter-demo.ipynb\r\n",
      "-rw-r--r--   1 rodrigo  staff  75356 Jan  9 19:53 Pandas Demo.ipynb\r\n",
      "drwx------@  7 rodrigo  staff    224 Jan  9 20:35 \u001b[1m\u001b[36mdata\u001b[m\u001b[m/\r\n"
     ]
    }
   ],
   "source": [
    "%ls -la"
   ]
  },
  {
   "cell_type": "code",
   "execution_count": 23,
   "metadata": {},
   "outputs": [
    {
     "data": {
      "image/png": "[encoded data removed]",
      "text/plain": [
       "<Figure size 432x288 with 1 Axes>"
      ]
     },
     "metadata": {
      "needs_background": "light"
     },
     "output_type": "display_data"
    }
   ],
   "source": [
    "%matplotlib inline\n",
    "import matplotlib.pyplot as plt\n",
    "\n",
    "plt.plot([1,23,2,4])\n",
    "plt.ylabel('some numbers')\n",
    "\n",
    "plt.show()"
   ]
  },
  {
   "cell_type": "code",
   "execution_count": 24,
   "metadata": {},
   "outputs": [
    {
     "data": {
      "text/html": [
       "<h1>Title</h1>\n",
       "<h2>Sutitle</h2>\n",
       "<ul>\n",
       "<li>One</li>\n",
       "<li>Two</li>\n",
       "<li>Three</li>\n",
       "</ul>\n"
      ],
      "text/plain": [
       "<IPython.core.display.HTML object>"
      ]
     },
     "metadata": {},
     "output_type": "display_data"
    }
   ],
   "source": [
    "%%HTML\n",
    "<h1>Title</h1>\n",
    "<h2>Sutitle</h2>\n",
    "<ul>\n",
    "<li>One</li>\n",
    "<li>Two</li>\n",
    "<li>Three</li>\n",
    "</ul>"
   ]
  },
  {
   "cell_type": "code",
   "execution_count": 29,
   "metadata": {},
   "outputs": [
    {
     "data": {
      "application/javascript": [
       "alert(\"Hello World!\");\n"
      ],
      "text/plain": [
       "<IPython.core.display.Javascript object>"
      ]
     },
     "metadata": {},
     "output_type": "display_data"
    }
   ],
   "source": [
    "%%javascript\n",
    "alert(\"Hello World!\");"
   ]
  },
  {
   "cell_type": "code",
   "execution_count": 38,
   "metadata": {},
   "outputs": [
    {
     "name": "stdout",
     "output_type": "stream",
     "text": [
      "83.1 µs ± 8.62 µs per loop (mean ± std. dev. of 7 runs, 10000 loops each)\n"
     ]
    }
   ],
   "source": [
    "%%timeit\n",
    "squares = [a*a for a in range(0,1000)]"
   ]
  },
  {
   "cell_type": "code",
   "execution_count": 40,
   "metadata": {},
   "outputs": [
    {
     "data": {
      "text/html": [
       "<div>\n",
       "<style scoped>\n",
       "    .dataframe tbody tr th:only-of-type {\n",
       "        vertical-align: middle;\n",
       "    }\n",
       "\n",
       "    .dataframe tbody tr th {\n",
       "        vertical-align: top;\n",
       "    }\n",
       "\n",
       "    .dataframe thead th {\n",
       "        text-align: right;\n",
       "    }\n",
       "</style>\n",
       "<table border=\"1\" class=\"dataframe\">\n",
       "  <thead>\n",
       "    <tr style=\"text-align: right;\">\n",
       "      <th></th>\n",
       "      <th>0</th>\n",
       "      <th>1</th>\n",
       "      <th>2</th>\n",
       "      <th>3</th>\n",
       "      <th>4</th>\n",
       "    </tr>\n",
       "  </thead>\n",
       "  <tbody>\n",
       "    <tr>\n",
       "      <td>5</td>\n",
       "      <td>-0.087772</td>\n",
       "      <td>-0.618435</td>\n",
       "      <td>-0.543729</td>\n",
       "      <td>1.025211</td>\n",
       "      <td>-0.182726</td>\n",
       "    </tr>\n",
       "    <tr>\n",
       "      <td>6</td>\n",
       "      <td>1.499447</td>\n",
       "      <td>-0.580331</td>\n",
       "      <td>1.257125</td>\n",
       "      <td>-0.580121</td>\n",
       "      <td>-0.396471</td>\n",
       "    </tr>\n",
       "    <tr>\n",
       "      <td>7</td>\n",
       "      <td>-0.370133</td>\n",
       "      <td>1.561913</td>\n",
       "      <td>-1.015965</td>\n",
       "      <td>-0.117830</td>\n",
       "      <td>-0.234253</td>\n",
       "    </tr>\n",
       "    <tr>\n",
       "      <td>8</td>\n",
       "      <td>0.730678</td>\n",
       "      <td>0.340829</td>\n",
       "      <td>-0.422642</td>\n",
       "      <td>1.671508</td>\n",
       "      <td>-0.843998</td>\n",
       "    </tr>\n",
       "    <tr>\n",
       "      <td>9</td>\n",
       "      <td>-0.705323</td>\n",
       "      <td>0.745865</td>\n",
       "      <td>-0.664877</td>\n",
       "      <td>-0.274670</td>\n",
       "      <td>-0.721204</td>\n",
       "    </tr>\n",
       "  </tbody>\n",
       "</table>\n",
       "</div>"
      ],
      "text/plain": [
       "          0         1         2         3         4\n",
       "5 -0.087772 -0.618435 -0.543729  1.025211 -0.182726\n",
       "6  1.499447 -0.580331  1.257125 -0.580121 -0.396471\n",
       "7 -0.370133  1.561913 -1.015965 -0.117830 -0.234253\n",
       "8  0.730678  0.340829 -0.422642  1.671508 -0.843998\n",
       "9 -0.705323  0.745865 -0.664877 -0.274670 -0.721204"
      ]
     },
     "execution_count": 40,
     "metadata": {},
     "output_type": "execute_result"
    }
   ],
   "source": [
    "import pandas as pd\n",
    "import numpy as np\n",
    "df = pd.DataFrame(np.random.randn(10,5))\n",
    "df.tail()"
   ]
  }
 ],
 "metadata": {
  "kernelspec": {
   "display_name": "Python 3",
   "language": "python",
   "name": "python3"
  },
  "language_info": {
   "codemirror_mode": {
    "name": "ipython",
    "version": 3
   },
   "file_extension": ".py",
   "mimetype": "text/x-python",
   "name": "python",
   "nbconvert_exporter": "python",
   "pygments_lexer": "ipython3",
   "version": "3.7.0"
  }
 },
 "nbformat": 4,
 "nbformat_minor": 4
}
